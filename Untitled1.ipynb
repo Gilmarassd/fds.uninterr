{
  "nbformat": 4,
  "nbformat_minor": 0,
  "metadata": {
    "colab": {
      "provenance": [],
      "authorship_tag": "ABX9TyNqKZ1Sq5wgrkhPIAwGH1m3",
      "include_colab_link": true
    },
    "kernelspec": {
      "name": "python3",
      "display_name": "Python 3"
    },
    "language_info": {
      "name": "python"
    }
  },
  "cells": [
    {
      "cell_type": "markdown",
      "metadata": {
        "id": "view-in-github",
        "colab_type": "text"
      },
      "source": [
        "<a href=\"https://colab.research.google.com/github/Gilmarassd/fds.uninterr/blob/main/Untitled1.ipynb\" target=\"_parent\"><img src=\"https://colab.research.google.com/assets/colab-badge.svg\" alt=\"Open In Colab\"/></a>"
      ]
    },
    {
      "cell_type": "code",
      "execution_count": 1,
      "metadata": {
        "colab": {
          "base_uri": "https://localhost:8080/"
        },
        "id": "G30bolRKmnRi",
        "outputId": "fb523906-230c-47c2-d45e-10fd96cfd27e"
      },
      "outputs": [
        {
          "output_type": "stream",
          "name": "stdout",
          "text": [
            "Writing teste.cpp\n"
          ]
        }
      ],
      "source": [
        "%%writefile teste.cpp\n",
        "#include <stdio.h>\n",
        "/*\n",
        "Program aque calcula a média aritmética\n",
        "Obter as 2 notas de provas\n",
        "Calcular a média aritmética\n",
        "Se a média for igual ou maior que 7, o aluno foi aprovado\n",
        "senão ele foi reprovado\n",
        "*/\n",
        "int main(void) {\n",
        "  //declaração de variável\n",
        "  float nota1, nota2, media;\n",
        "\n",
        "  //Obter as 2 notas de provas\n",
        "  printf(\"Digite a primeira nota:  \");\n",
        "  scanf(\"%f\", &nota1);\n",
        "\n",
        "  printf(\"Digite a segunda  nota:  \");\n",
        "  scanf(\"%f\", &nota2);\n",
        "\n",
        "    //Calcular a média aritmética\n",
        "  media = (nota1 + nota2)/2;\n",
        "\n",
        "  //mostro o resultado\n",
        "  if (media >= 7 )\n",
        "  printf(\"Aprovado! \\n\");\n",
        "  else\n",
        "  printf(\"Reprovado! \\n\");\n",
        "\n",
        "  return 0;\n",
        "}\n"
      ]
    },
    {
      "cell_type": "code",
      "source": [
        "! g++ teste.cpp -o testec"
      ],
      "metadata": {
        "id": "GknRLzlRoGSd"
      },
      "execution_count": 7,
      "outputs": []
    },
    {
      "cell_type": "code",
      "source": [
        "!./testec"
      ],
      "metadata": {
        "colab": {
          "base_uri": "https://localhost:8080/"
        },
        "id": "OdBvruM2or_Q",
        "outputId": "3452e595-f595-4796-d6ef-0e4d2e0cfba4"
      },
      "execution_count": 9,
      "outputs": [
        {
          "output_type": "stream",
          "name": "stdout",
          "text": [
            "Digite a primeira nota:  9\n",
            "Digite a segunda  nota:  5\n",
            "Aprovado! \n"
          ]
        }
      ]
    }
  ]
}