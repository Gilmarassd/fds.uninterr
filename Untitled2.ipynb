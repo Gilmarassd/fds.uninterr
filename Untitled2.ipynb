{
  "nbformat": 4,
  "nbformat_minor": 0,
  "metadata": {
    "colab": {
      "provenance": [],
      "authorship_tag": "ABX9TyNDTyVmDtUgCGteoPxOPsxt",
      "include_colab_link": true
    },
    "kernelspec": {
      "name": "python3",
      "display_name": "Python 3"
    },
    "language_info": {
      "name": "python"
    }
  },
  "cells": [
    {
      "cell_type": "markdown",
      "metadata": {
        "id": "view-in-github",
        "colab_type": "text"
      },
      "source": [
        "<a href=\"https://colab.research.google.com/github/Gilmarassd/fds.uninterr/blob/main/Untitled2.ipynb\" target=\"_parent\"><img src=\"https://colab.research.google.com/assets/colab-badge.svg\" alt=\"Open In Colab\"/></a>"
      ]
    },
    {
      "cell_type": "code",
      "execution_count": 1,
      "metadata": {
        "colab": {
          "base_uri": "https://localhost:8080/"
        },
        "id": "6VqXSWerpA4p",
        "outputId": "997e7595-ebe6-472a-b542-2fe485dc22f7"
      },
      "outputs": [
        {
          "output_type": "stream",
          "name": "stdout",
          "text": [
            "Digite a primeira nota: 8\n",
            "Digite a segunda nota: 6\n",
            "Aprovado\n"
          ]
        }
      ],
      "source": [
        "#Obter as duas notas de provas\n",
        "nota1 = float(input(\"Digite a primeira nota: \"))\n",
        "nota2 = float(input(\"Digite a segunda nota: \"))\n",
        "\n",
        "#Calcular a média aritmética\n",
        "media = (nota1 + nota2)/2\n",
        "\n",
        "#Se a média for igual ou maior que 7, o aluno foi aprovado\n",
        "if media >= 7:\n",
        "    print(\"Aprovado\")\n",
        "#Se não, ele foi reprovado\n",
        "else:\n",
        "    print(\"Reprovado\")\n"
      ]
    }
  ]
}